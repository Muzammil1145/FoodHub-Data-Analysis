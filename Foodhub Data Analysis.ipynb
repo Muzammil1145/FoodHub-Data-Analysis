{
 "cells": [
  {
   "cell_type": "markdown",
   "id": "345ffdd7",
   "metadata": {},
   "source": [
    "# FoodHub Data Analysis"
   ]
  },
  {
   "cell_type": "markdown",
   "id": "754f8c64",
   "metadata": {},
   "source": [
    "## Importing the Necessary Libraries"
   ]
  },
  {
   "cell_type": "code",
   "execution_count": 1,
   "id": "1a9855cd",
   "metadata": {},
   "outputs": [],
   "source": [
    "# Libararies for Data Manipulation\n",
    "import numpy as np\n",
    "import pandas as pd\n",
    "\n",
    "#Libraries for Data Visualization\n",
    "import matplotlib.pyplot as plt\n",
    "import seaborn as sns"
   ]
  },
  {
   "cell_type": "markdown",
   "id": "2ea495e1",
   "metadata": {},
   "source": [
    "## Understanding the Structure of the Data"
   ]
  },
  {
   "cell_type": "code",
   "execution_count": 2,
   "id": "bc469496",
   "metadata": {},
   "outputs": [
    {
     "data": {
      "text/html": [
       "<div>\n",
       "<style scoped>\n",
       "    .dataframe tbody tr th:only-of-type {\n",
       "        vertical-align: middle;\n",
       "    }\n",
       "\n",
       "    .dataframe tbody tr th {\n",
       "        vertical-align: top;\n",
       "    }\n",
       "\n",
       "    .dataframe thead th {\n",
       "        text-align: right;\n",
       "    }\n",
       "</style>\n",
       "<table border=\"1\" class=\"dataframe\">\n",
       "  <thead>\n",
       "    <tr style=\"text-align: right;\">\n",
       "      <th></th>\n",
       "      <th>order_id</th>\n",
       "      <th>customer_id</th>\n",
       "      <th>restaurant_name</th>\n",
       "      <th>cuisine_type</th>\n",
       "      <th>cost_of_the_order</th>\n",
       "      <th>day_of_the_week</th>\n",
       "      <th>rating</th>\n",
       "      <th>food_preparation_time</th>\n",
       "      <th>delivery_time</th>\n",
       "    </tr>\n",
       "  </thead>\n",
       "  <tbody>\n",
       "    <tr>\n",
       "      <th>0</th>\n",
       "      <td>1477147</td>\n",
       "      <td>337525</td>\n",
       "      <td>Hangawi</td>\n",
       "      <td>Korean</td>\n",
       "      <td>30.75</td>\n",
       "      <td>Weekend</td>\n",
       "      <td>Not given</td>\n",
       "      <td>25</td>\n",
       "      <td>20</td>\n",
       "    </tr>\n",
       "    <tr>\n",
       "      <th>1</th>\n",
       "      <td>1477685</td>\n",
       "      <td>358141</td>\n",
       "      <td>Blue Ribbon Sushi Izakaya</td>\n",
       "      <td>Japanese</td>\n",
       "      <td>12.08</td>\n",
       "      <td>Weekend</td>\n",
       "      <td>Not given</td>\n",
       "      <td>25</td>\n",
       "      <td>23</td>\n",
       "    </tr>\n",
       "    <tr>\n",
       "      <th>2</th>\n",
       "      <td>1477070</td>\n",
       "      <td>66393</td>\n",
       "      <td>Cafe Habana</td>\n",
       "      <td>Mexican</td>\n",
       "      <td>12.23</td>\n",
       "      <td>Weekday</td>\n",
       "      <td>5</td>\n",
       "      <td>23</td>\n",
       "      <td>28</td>\n",
       "    </tr>\n",
       "    <tr>\n",
       "      <th>3</th>\n",
       "      <td>1477334</td>\n",
       "      <td>106968</td>\n",
       "      <td>Blue Ribbon Fried Chicken</td>\n",
       "      <td>American</td>\n",
       "      <td>29.20</td>\n",
       "      <td>Weekend</td>\n",
       "      <td>3</td>\n",
       "      <td>25</td>\n",
       "      <td>15</td>\n",
       "    </tr>\n",
       "    <tr>\n",
       "      <th>4</th>\n",
       "      <td>1478249</td>\n",
       "      <td>76942</td>\n",
       "      <td>Dirty Bird to Go</td>\n",
       "      <td>American</td>\n",
       "      <td>11.59</td>\n",
       "      <td>Weekday</td>\n",
       "      <td>4</td>\n",
       "      <td>25</td>\n",
       "      <td>24</td>\n",
       "    </tr>\n",
       "  </tbody>\n",
       "</table>\n",
       "</div>"
      ],
      "text/plain": [
       "   order_id  customer_id            restaurant_name cuisine_type  \\\n",
       "0   1477147       337525                    Hangawi       Korean   \n",
       "1   1477685       358141  Blue Ribbon Sushi Izakaya     Japanese   \n",
       "2   1477070        66393                Cafe Habana      Mexican   \n",
       "3   1477334       106968  Blue Ribbon Fried Chicken     American   \n",
       "4   1478249        76942           Dirty Bird to Go     American   \n",
       "\n",
       "   cost_of_the_order day_of_the_week     rating  food_preparation_time  \\\n",
       "0              30.75         Weekend  Not given                     25   \n",
       "1              12.08         Weekend  Not given                     25   \n",
       "2              12.23         Weekday          5                     23   \n",
       "3              29.20         Weekend          3                     25   \n",
       "4              11.59         Weekday          4                     25   \n",
       "\n",
       "   delivery_time  \n",
       "0             20  \n",
       "1             23  \n",
       "2             28  \n",
       "3             15  \n",
       "4             24  "
      ]
     },
     "execution_count": 2,
     "metadata": {},
     "output_type": "execute_result"
    }
   ],
   "source": [
    "#Reading the data\n",
    "df = pd.read_csv('foodhub_order.csv')\n",
    "#Returning the first 5 rows\n",
    "df.head()"
   ]
  },
  {
   "cell_type": "code",
   "execution_count": 3,
   "id": "07366fe5",
   "metadata": {},
   "outputs": [
    {
     "data": {
      "text/plain": [
       "(1898, 9)"
      ]
     },
     "execution_count": 3,
     "metadata": {},
     "output_type": "execute_result"
    }
   ],
   "source": [
    "#Checking the shape of the data\n",
    "df.shape"
   ]
  },
  {
   "cell_type": "markdown",
   "id": "82e6f393",
   "metadata": {},
   "source": [
    "### Observations:\n",
    "\n",
    "In this dataset, there are 1898 rows and 9 columns"
   ]
  },
  {
   "cell_type": "code",
   "execution_count": 4,
   "id": "c618cb5a",
   "metadata": {},
   "outputs": [
    {
     "name": "stdout",
     "output_type": "stream",
     "text": [
      "<class 'pandas.core.frame.DataFrame'>\n",
      "RangeIndex: 1898 entries, 0 to 1897\n",
      "Data columns (total 9 columns):\n",
      " #   Column                 Non-Null Count  Dtype  \n",
      "---  ------                 --------------  -----  \n",
      " 0   order_id               1898 non-null   int64  \n",
      " 1   customer_id            1898 non-null   int64  \n",
      " 2   restaurant_name        1898 non-null   object \n",
      " 3   cuisine_type           1898 non-null   object \n",
      " 4   cost_of_the_order      1898 non-null   float64\n",
      " 5   day_of_the_week        1898 non-null   object \n",
      " 6   rating                 1898 non-null   object \n",
      " 7   food_preparation_time  1898 non-null   int64  \n",
      " 8   delivery_time          1898 non-null   int64  \n",
      "dtypes: float64(1), int64(4), object(4)\n",
      "memory usage: 133.6+ KB\n"
     ]
    }
   ],
   "source": [
    "#Checking the datatypes of the dataset\n",
    "df.info()"
   ]
  },
  {
   "cell_type": "markdown",
   "id": "15fcbd61",
   "metadata": {},
   "source": [
    "### Observations:\n",
    "\n",
    "-In this dataset, there are about 4 datatypes that are integers (order_id, customer_id, food_preparation_time, and delivery_time), 4 datatypes that are objects (resturant_name, cuisine_type, day_of_the_week, and rating), and there is only 1 datatype that is a float (cost_of_the_order)\n",
    "\n",
    "-With this being said, all of the variables have the same non-null count, in which proves that there aren't any missing variables to be accounted for. Ratings seem like it has been accounted for all the null variables with Not given."
   ]
  },
  {
   "cell_type": "code",
   "execution_count": 5,
   "id": "df916f78",
   "metadata": {},
   "outputs": [
    {
     "data": {
      "text/plain": [
       "order_id                 0\n",
       "customer_id              0\n",
       "restaurant_name          0\n",
       "cuisine_type             0\n",
       "cost_of_the_order        0\n",
       "day_of_the_week          0\n",
       "rating                   0\n",
       "food_preparation_time    0\n",
       "delivery_time            0\n",
       "dtype: int64"
      ]
     },
     "execution_count": 5,
     "metadata": {},
     "output_type": "execute_result"
    }
   ],
   "source": [
    "#Confirming if there are any missing variables \n",
    "df.isnull().sum()"
   ]
  },
  {
   "cell_type": "markdown",
   "id": "e33dc505",
   "metadata": {},
   "source": [
    "Based on this information, we can proceed with the statistical summary since there are no missing variables that need to be accounted for."
   ]
  },
  {
   "cell_type": "code",
   "execution_count": 6,
   "id": "fff42d84",
   "metadata": {},
   "outputs": [
    {
     "data": {
      "text/html": [
       "<div>\n",
       "<style scoped>\n",
       "    .dataframe tbody tr th:only-of-type {\n",
       "        vertical-align: middle;\n",
       "    }\n",
       "\n",
       "    .dataframe tbody tr th {\n",
       "        vertical-align: top;\n",
       "    }\n",
       "\n",
       "    .dataframe thead th {\n",
       "        text-align: right;\n",
       "    }\n",
       "</style>\n",
       "<table border=\"1\" class=\"dataframe\">\n",
       "  <thead>\n",
       "    <tr style=\"text-align: right;\">\n",
       "      <th></th>\n",
       "      <th>order_id</th>\n",
       "      <th>customer_id</th>\n",
       "      <th>restaurant_name</th>\n",
       "      <th>cuisine_type</th>\n",
       "      <th>cost_of_the_order</th>\n",
       "      <th>day_of_the_week</th>\n",
       "      <th>rating</th>\n",
       "      <th>food_preparation_time</th>\n",
       "      <th>delivery_time</th>\n",
       "    </tr>\n",
       "  </thead>\n",
       "  <tbody>\n",
       "    <tr>\n",
       "      <th>0</th>\n",
       "      <td>1477147</td>\n",
       "      <td>337525</td>\n",
       "      <td>Hangawi</td>\n",
       "      <td>Korean</td>\n",
       "      <td>30.75</td>\n",
       "      <td>Weekend</td>\n",
       "      <td>Not given</td>\n",
       "      <td>25</td>\n",
       "      <td>20</td>\n",
       "    </tr>\n",
       "    <tr>\n",
       "      <th>1</th>\n",
       "      <td>1477685</td>\n",
       "      <td>358141</td>\n",
       "      <td>Blue Ribbon Sushi Izakaya</td>\n",
       "      <td>Japanese</td>\n",
       "      <td>12.08</td>\n",
       "      <td>Weekend</td>\n",
       "      <td>Not given</td>\n",
       "      <td>25</td>\n",
       "      <td>23</td>\n",
       "    </tr>\n",
       "    <tr>\n",
       "      <th>2</th>\n",
       "      <td>1477070</td>\n",
       "      <td>66393</td>\n",
       "      <td>Cafe Habana</td>\n",
       "      <td>Mexican</td>\n",
       "      <td>12.23</td>\n",
       "      <td>Weekday</td>\n",
       "      <td>5</td>\n",
       "      <td>23</td>\n",
       "      <td>28</td>\n",
       "    </tr>\n",
       "    <tr>\n",
       "      <th>3</th>\n",
       "      <td>1477334</td>\n",
       "      <td>106968</td>\n",
       "      <td>Blue Ribbon Fried Chicken</td>\n",
       "      <td>American</td>\n",
       "      <td>29.20</td>\n",
       "      <td>Weekend</td>\n",
       "      <td>3</td>\n",
       "      <td>25</td>\n",
       "      <td>15</td>\n",
       "    </tr>\n",
       "    <tr>\n",
       "      <th>4</th>\n",
       "      <td>1478249</td>\n",
       "      <td>76942</td>\n",
       "      <td>Dirty Bird to Go</td>\n",
       "      <td>American</td>\n",
       "      <td>11.59</td>\n",
       "      <td>Weekday</td>\n",
       "      <td>4</td>\n",
       "      <td>25</td>\n",
       "      <td>24</td>\n",
       "    </tr>\n",
       "    <tr>\n",
       "      <th>...</th>\n",
       "      <td>...</td>\n",
       "      <td>...</td>\n",
       "      <td>...</td>\n",
       "      <td>...</td>\n",
       "      <td>...</td>\n",
       "      <td>...</td>\n",
       "      <td>...</td>\n",
       "      <td>...</td>\n",
       "      <td>...</td>\n",
       "    </tr>\n",
       "    <tr>\n",
       "      <th>1893</th>\n",
       "      <td>1476701</td>\n",
       "      <td>292602</td>\n",
       "      <td>Chipotle Mexican Grill $1.99 Delivery</td>\n",
       "      <td>Mexican</td>\n",
       "      <td>22.31</td>\n",
       "      <td>Weekend</td>\n",
       "      <td>5</td>\n",
       "      <td>31</td>\n",
       "      <td>17</td>\n",
       "    </tr>\n",
       "    <tr>\n",
       "      <th>1894</th>\n",
       "      <td>1477421</td>\n",
       "      <td>397537</td>\n",
       "      <td>The Smile</td>\n",
       "      <td>American</td>\n",
       "      <td>12.18</td>\n",
       "      <td>Weekend</td>\n",
       "      <td>5</td>\n",
       "      <td>31</td>\n",
       "      <td>19</td>\n",
       "    </tr>\n",
       "    <tr>\n",
       "      <th>1895</th>\n",
       "      <td>1477819</td>\n",
       "      <td>35309</td>\n",
       "      <td>Blue Ribbon Sushi</td>\n",
       "      <td>Japanese</td>\n",
       "      <td>25.22</td>\n",
       "      <td>Weekday</td>\n",
       "      <td>Not given</td>\n",
       "      <td>31</td>\n",
       "      <td>24</td>\n",
       "    </tr>\n",
       "    <tr>\n",
       "      <th>1896</th>\n",
       "      <td>1477513</td>\n",
       "      <td>64151</td>\n",
       "      <td>Jack's Wife Freda</td>\n",
       "      <td>Mediterranean</td>\n",
       "      <td>12.18</td>\n",
       "      <td>Weekday</td>\n",
       "      <td>5</td>\n",
       "      <td>23</td>\n",
       "      <td>31</td>\n",
       "    </tr>\n",
       "    <tr>\n",
       "      <th>1897</th>\n",
       "      <td>1478056</td>\n",
       "      <td>120353</td>\n",
       "      <td>Blue Ribbon Sushi</td>\n",
       "      <td>Japanese</td>\n",
       "      <td>19.45</td>\n",
       "      <td>Weekend</td>\n",
       "      <td>Not given</td>\n",
       "      <td>28</td>\n",
       "      <td>24</td>\n",
       "    </tr>\n",
       "  </tbody>\n",
       "</table>\n",
       "<p>1898 rows × 9 columns</p>\n",
       "</div>"
      ],
      "text/plain": [
       "      order_id  customer_id                        restaurant_name  \\\n",
       "0      1477147       337525                                Hangawi   \n",
       "1      1477685       358141              Blue Ribbon Sushi Izakaya   \n",
       "2      1477070        66393                            Cafe Habana   \n",
       "3      1477334       106968              Blue Ribbon Fried Chicken   \n",
       "4      1478249        76942                       Dirty Bird to Go   \n",
       "...        ...          ...                                    ...   \n",
       "1893   1476701       292602  Chipotle Mexican Grill $1.99 Delivery   \n",
       "1894   1477421       397537                              The Smile   \n",
       "1895   1477819        35309                      Blue Ribbon Sushi   \n",
       "1896   1477513        64151                      Jack's Wife Freda   \n",
       "1897   1478056       120353                      Blue Ribbon Sushi   \n",
       "\n",
       "       cuisine_type  cost_of_the_order day_of_the_week     rating  \\\n",
       "0            Korean              30.75         Weekend  Not given   \n",
       "1          Japanese              12.08         Weekend  Not given   \n",
       "2           Mexican              12.23         Weekday          5   \n",
       "3          American              29.20         Weekend          3   \n",
       "4          American              11.59         Weekday          4   \n",
       "...             ...                ...             ...        ...   \n",
       "1893        Mexican              22.31         Weekend          5   \n",
       "1894       American              12.18         Weekend          5   \n",
       "1895       Japanese              25.22         Weekday  Not given   \n",
       "1896  Mediterranean              12.18         Weekday          5   \n",
       "1897       Japanese              19.45         Weekend  Not given   \n",
       "\n",
       "      food_preparation_time  delivery_time  \n",
       "0                        25             20  \n",
       "1                        25             23  \n",
       "2                        23             28  \n",
       "3                        25             15  \n",
       "4                        25             24  \n",
       "...                     ...            ...  \n",
       "1893                     31             17  \n",
       "1894                     31             19  \n",
       "1895                     31             24  \n",
       "1896                     23             31  \n",
       "1897                     28             24  \n",
       "\n",
       "[1898 rows x 9 columns]"
      ]
     },
     "execution_count": 6,
     "metadata": {},
     "output_type": "execute_result"
    }
   ],
   "source": [
    "df"
   ]
  },
  {
   "cell_type": "code",
   "execution_count": 7,
   "id": "30d3fdcf",
   "metadata": {},
   "outputs": [],
   "source": [
    "#We will also change the customer_id dataset \n",
    "#to a categorical one since this dataset is categorical by nature although it possesses numerical qualities \n",
    "df['customer_id'] = df['customer_id'].astype(object)"
   ]
  },
  {
   "cell_type": "code",
   "execution_count": 8,
   "id": "2bd239bf",
   "metadata": {},
   "outputs": [
    {
     "name": "stdout",
     "output_type": "stream",
     "text": [
      "<class 'pandas.core.series.Series'>\n",
      "RangeIndex: 1898 entries, 0 to 1897\n",
      "Series name: customer_id\n",
      "Non-Null Count  Dtype \n",
      "--------------  ----- \n",
      "1898 non-null   object\n",
      "dtypes: object(1)\n",
      "memory usage: 15.0+ KB\n"
     ]
    }
   ],
   "source": [
    "df['customer_id'].info()"
   ]
  },
  {
   "cell_type": "code",
   "execution_count": 9,
   "id": "90b040cc",
   "metadata": {},
   "outputs": [],
   "source": [
    "df['order_id']=df['order_id'].astype(object)"
   ]
  },
  {
   "cell_type": "code",
   "execution_count": 10,
   "id": "9cc113c1",
   "metadata": {},
   "outputs": [
    {
     "name": "stdout",
     "output_type": "stream",
     "text": [
      "<class 'pandas.core.frame.DataFrame'>\n",
      "RangeIndex: 1898 entries, 0 to 1897\n",
      "Data columns (total 9 columns):\n",
      " #   Column                 Non-Null Count  Dtype  \n",
      "---  ------                 --------------  -----  \n",
      " 0   order_id               1898 non-null   object \n",
      " 1   customer_id            1898 non-null   object \n",
      " 2   restaurant_name        1898 non-null   object \n",
      " 3   cuisine_type           1898 non-null   object \n",
      " 4   cost_of_the_order      1898 non-null   float64\n",
      " 5   day_of_the_week        1898 non-null   object \n",
      " 6   rating                 1898 non-null   object \n",
      " 7   food_preparation_time  1898 non-null   int64  \n",
      " 8   delivery_time          1898 non-null   int64  \n",
      "dtypes: float64(1), int64(2), object(6)\n",
      "memory usage: 133.6+ KB\n"
     ]
    }
   ],
   "source": [
    "df.info()"
   ]
  },
  {
   "cell_type": "code",
   "execution_count": 11,
   "id": "9bac18dc",
   "metadata": {},
   "outputs": [
    {
     "data": {
      "text/html": [
       "<div>\n",
       "<style scoped>\n",
       "    .dataframe tbody tr th:only-of-type {\n",
       "        vertical-align: middle;\n",
       "    }\n",
       "\n",
       "    .dataframe tbody tr th {\n",
       "        vertical-align: top;\n",
       "    }\n",
       "\n",
       "    .dataframe thead th {\n",
       "        text-align: right;\n",
       "    }\n",
       "</style>\n",
       "<table border=\"1\" class=\"dataframe\">\n",
       "  <thead>\n",
       "    <tr style=\"text-align: right;\">\n",
       "      <th></th>\n",
       "      <th>count</th>\n",
       "      <th>unique</th>\n",
       "      <th>top</th>\n",
       "      <th>freq</th>\n",
       "      <th>mean</th>\n",
       "      <th>std</th>\n",
       "      <th>min</th>\n",
       "      <th>25%</th>\n",
       "      <th>50%</th>\n",
       "      <th>75%</th>\n",
       "      <th>max</th>\n",
       "    </tr>\n",
       "  </thead>\n",
       "  <tbody>\n",
       "    <tr>\n",
       "      <th>order_id</th>\n",
       "      <td>1898.0</td>\n",
       "      <td>1898.0</td>\n",
       "      <td>1477147.0</td>\n",
       "      <td>1.0</td>\n",
       "      <td>NaN</td>\n",
       "      <td>NaN</td>\n",
       "      <td>NaN</td>\n",
       "      <td>NaN</td>\n",
       "      <td>NaN</td>\n",
       "      <td>NaN</td>\n",
       "      <td>NaN</td>\n",
       "    </tr>\n",
       "    <tr>\n",
       "      <th>customer_id</th>\n",
       "      <td>1898.0</td>\n",
       "      <td>1200.0</td>\n",
       "      <td>52832.0</td>\n",
       "      <td>13.0</td>\n",
       "      <td>NaN</td>\n",
       "      <td>NaN</td>\n",
       "      <td>NaN</td>\n",
       "      <td>NaN</td>\n",
       "      <td>NaN</td>\n",
       "      <td>NaN</td>\n",
       "      <td>NaN</td>\n",
       "    </tr>\n",
       "    <tr>\n",
       "      <th>restaurant_name</th>\n",
       "      <td>1898</td>\n",
       "      <td>178</td>\n",
       "      <td>Shake Shack</td>\n",
       "      <td>219</td>\n",
       "      <td>NaN</td>\n",
       "      <td>NaN</td>\n",
       "      <td>NaN</td>\n",
       "      <td>NaN</td>\n",
       "      <td>NaN</td>\n",
       "      <td>NaN</td>\n",
       "      <td>NaN</td>\n",
       "    </tr>\n",
       "    <tr>\n",
       "      <th>cuisine_type</th>\n",
       "      <td>1898</td>\n",
       "      <td>14</td>\n",
       "      <td>American</td>\n",
       "      <td>584</td>\n",
       "      <td>NaN</td>\n",
       "      <td>NaN</td>\n",
       "      <td>NaN</td>\n",
       "      <td>NaN</td>\n",
       "      <td>NaN</td>\n",
       "      <td>NaN</td>\n",
       "      <td>NaN</td>\n",
       "    </tr>\n",
       "    <tr>\n",
       "      <th>cost_of_the_order</th>\n",
       "      <td>1898.0</td>\n",
       "      <td>NaN</td>\n",
       "      <td>NaN</td>\n",
       "      <td>NaN</td>\n",
       "      <td>16.498851</td>\n",
       "      <td>7.483812</td>\n",
       "      <td>4.47</td>\n",
       "      <td>12.08</td>\n",
       "      <td>14.14</td>\n",
       "      <td>22.2975</td>\n",
       "      <td>35.41</td>\n",
       "    </tr>\n",
       "    <tr>\n",
       "      <th>day_of_the_week</th>\n",
       "      <td>1898</td>\n",
       "      <td>2</td>\n",
       "      <td>Weekend</td>\n",
       "      <td>1351</td>\n",
       "      <td>NaN</td>\n",
       "      <td>NaN</td>\n",
       "      <td>NaN</td>\n",
       "      <td>NaN</td>\n",
       "      <td>NaN</td>\n",
       "      <td>NaN</td>\n",
       "      <td>NaN</td>\n",
       "    </tr>\n",
       "    <tr>\n",
       "      <th>rating</th>\n",
       "      <td>1898</td>\n",
       "      <td>4</td>\n",
       "      <td>Not given</td>\n",
       "      <td>736</td>\n",
       "      <td>NaN</td>\n",
       "      <td>NaN</td>\n",
       "      <td>NaN</td>\n",
       "      <td>NaN</td>\n",
       "      <td>NaN</td>\n",
       "      <td>NaN</td>\n",
       "      <td>NaN</td>\n",
       "    </tr>\n",
       "    <tr>\n",
       "      <th>food_preparation_time</th>\n",
       "      <td>1898.0</td>\n",
       "      <td>NaN</td>\n",
       "      <td>NaN</td>\n",
       "      <td>NaN</td>\n",
       "      <td>27.37197</td>\n",
       "      <td>4.632481</td>\n",
       "      <td>20.0</td>\n",
       "      <td>23.0</td>\n",
       "      <td>27.0</td>\n",
       "      <td>31.0</td>\n",
       "      <td>35.0</td>\n",
       "    </tr>\n",
       "    <tr>\n",
       "      <th>delivery_time</th>\n",
       "      <td>1898.0</td>\n",
       "      <td>NaN</td>\n",
       "      <td>NaN</td>\n",
       "      <td>NaN</td>\n",
       "      <td>24.161749</td>\n",
       "      <td>4.972637</td>\n",
       "      <td>15.0</td>\n",
       "      <td>20.0</td>\n",
       "      <td>25.0</td>\n",
       "      <td>28.0</td>\n",
       "      <td>33.0</td>\n",
       "    </tr>\n",
       "  </tbody>\n",
       "</table>\n",
       "</div>"
      ],
      "text/plain": [
       "                        count  unique          top  freq       mean       std  \\\n",
       "order_id               1898.0  1898.0    1477147.0   1.0        NaN       NaN   \n",
       "customer_id            1898.0  1200.0      52832.0  13.0        NaN       NaN   \n",
       "restaurant_name          1898     178  Shake Shack   219        NaN       NaN   \n",
       "cuisine_type             1898      14     American   584        NaN       NaN   \n",
       "cost_of_the_order      1898.0     NaN          NaN   NaN  16.498851  7.483812   \n",
       "day_of_the_week          1898       2      Weekend  1351        NaN       NaN   \n",
       "rating                   1898       4    Not given   736        NaN       NaN   \n",
       "food_preparation_time  1898.0     NaN          NaN   NaN   27.37197  4.632481   \n",
       "delivery_time          1898.0     NaN          NaN   NaN  24.161749  4.972637   \n",
       "\n",
       "                        min    25%    50%      75%    max  \n",
       "order_id                NaN    NaN    NaN      NaN    NaN  \n",
       "customer_id             NaN    NaN    NaN      NaN    NaN  \n",
       "restaurant_name         NaN    NaN    NaN      NaN    NaN  \n",
       "cuisine_type            NaN    NaN    NaN      NaN    NaN  \n",
       "cost_of_the_order      4.47  12.08  14.14  22.2975  35.41  \n",
       "day_of_the_week         NaN    NaN    NaN      NaN    NaN  \n",
       "rating                  NaN    NaN    NaN      NaN    NaN  \n",
       "food_preparation_time  20.0   23.0   27.0     31.0   35.0  \n",
       "delivery_time          15.0   20.0   25.0     28.0   33.0  "
      ]
     },
     "execution_count": 11,
     "metadata": {},
     "output_type": "execute_result"
    }
   ],
   "source": [
    "#Performing a statistical summary\n",
    "df.describe(include='all').T"
   ]
  },
  {
   "cell_type": "markdown",
   "id": "1d1ccffe",
   "metadata": {},
   "source": [
    "### Observations:\n",
    "\n",
    "-The minumum time is takes to prepare food is 20 minutes, the average time is around 27 minutes, and the maximum time it takes to prepare food is 35 minutes once an order is placed. Since the median is 27 and the average is 27, we can make the assumption that is an equal distribution.\n",
    "\n",
    "-The average cost for an order is going to be around $16.50, while the median is 4.5, which indicates a right skewed distribution\n",
    "\n",
    "-Delivery time average is around 24 minutes, while the mimumum and maximum time it takes to deliver is 15 minutes and 33 minutes. This may also be an equal distribution"
   ]
  },
  {
   "cell_type": "code",
   "execution_count": 12,
   "id": "12e71575",
   "metadata": {},
   "outputs": [
    {
     "data": {
      "text/plain": [
       "Not given    736\n",
       "5            588\n",
       "4            386\n",
       "3            188\n",
       "Name: rating, dtype: int64"
      ]
     },
     "execution_count": 12,
     "metadata": {},
     "output_type": "execute_result"
    }
   ],
   "source": [
    "#How many orders are not rated?\n",
    "df['rating'].value_counts()"
   ]
  },
  {
   "cell_type": "markdown",
   "id": "e1270c89",
   "metadata": {},
   "source": [
    "### Observations:\n",
    "\n",
    "There are about 736 orders that have not been given a rating"
   ]
  },
  {
   "cell_type": "markdown",
   "id": "af0acf7d",
   "metadata": {},
   "source": [
    "# Exploratory Data Analysis "
   ]
  },
  {
   "cell_type": "markdown",
   "id": "3c09ebf8",
   "metadata": {},
   "source": [
    "## Univariate Analysis"
   ]
  },
  {
   "cell_type": "code",
   "execution_count": 16,
   "id": "2440f434",
   "metadata": {},
   "outputs": [
    {
     "data": {
      "text/plain": [
       "1898"
      ]
     },
     "execution_count": 16,
     "metadata": {},
     "output_type": "execute_result"
    }
   ],
   "source": [
    "#Unique count for order id\n",
    "df['order_id'].nunique()"
   ]
  },
  {
   "cell_type": "code",
   "execution_count": 17,
   "id": "6943c645",
   "metadata": {},
   "outputs": [
    {
     "data": {
      "text/plain": [
       "1200"
      ]
     },
     "execution_count": 17,
     "metadata": {},
     "output_type": "execute_result"
    }
   ],
   "source": [
    "#Unique count for customer id \n",
    "df['customer_id'].nunique()"
   ]
  },
  {
   "cell_type": "code",
   "execution_count": 18,
   "id": "55bf9025",
   "metadata": {},
   "outputs": [
    {
     "data": {
      "text/plain": [
       "178"
      ]
     },
     "execution_count": 18,
     "metadata": {},
     "output_type": "execute_result"
    }
   ],
   "source": [
    "#Unique count for restaurant names\n",
    "df['restaurant_name'].nunique()"
   ]
  },
  {
   "cell_type": "code",
   "execution_count": 19,
   "id": "6c008fe5",
   "metadata": {},
   "outputs": [
    {
     "data": {
      "text/plain": [
       "14"
      ]
     },
     "execution_count": 19,
     "metadata": {},
     "output_type": "execute_result"
    }
   ],
   "source": [
    "#Unique count for cuisine type variable\n",
    "df['cuisine_type'].nunique()"
   ]
  },
  {
   "cell_type": "code",
   "execution_count": 22,
   "id": "15d9bace",
   "metadata": {},
   "outputs": [
    {
     "data": {
      "text/plain": [
       "<AxesSubplot:xlabel='cuisine_type', ylabel='count'>"
      ]
     },
     "execution_count": 22,
     "metadata": {},
     "output_type": "execute_result"
    },
    {
     "data": {
      "image/png": "[encoded data removed]",
      "text/plain": [
       "<Figure size 1080x360 with 1 Axes>"
      ]
     },
     "metadata": {
      "needs_background": "light"
     },
     "output_type": "display_data"
    }
   ],
   "source": [
    "#Observations for cuisine type \n",
    "plt.figure(figsize=(15,5))\n",
    "sns.countplot(data=df,x='cuisine_type')"
   ]
  },
  {
   "cell_type": "markdown",
   "id": "4dd2b473",
   "metadata": {},
   "source": [
    "### Observations:\n",
    "\n",
    "-American food gets the highest order count, then Japanese food, Chinese, and Italian come in the next 3 that have the highest order count \n",
    "\n",
    "-This may indicate a high preference among American food from college students"
   ]
  },
  {
   "cell_type": "code",
   "execution_count": 13,
   "id": "3e1ce6ed",
   "metadata": {},
   "outputs": [
    {
     "data": {
      "image/png": "[encoded data removed]",
      "text/plain": [
       "<Figure size 432x288 with 1 Axes>"
      ]
     },
     "metadata": {
      "needs_background": "light"
     },
     "output_type": "display_data"
    },
    {
     "data": {
      "image/png": "[encoded data removed]",
      "text/plain": [
       "<Figure size 432x288 with 1 Axes>"
      ]
     },
     "metadata": {
      "needs_background": "light"
     },
     "output_type": "display_data"
    }
   ],
   "source": [
    "#Observations for order costs\n",
    "sns.histplot(data=df,x='cost_of_the_order',kde=True)\n",
    "plt.show()\n",
    "sns.boxplot(data=df,x='cost_of_the_order')\n",
    "plt.show()"
   ]
  },
  {
   "cell_type": "markdown",
   "id": "b0d1a49f",
   "metadata": {},
   "source": [
    "### Observations:\n",
    "\n",
    "-The cost of the order variable is skewed to the right, in which may show that most of the orders may be on the cheaper side rather than the expensive, with no outliers\n",
    "\n",
    "-Shows that the 75% of the order costs are over $15 and 25 percent of them fall below $15"
   ]
  },
  {
   "cell_type": "code",
   "execution_count": 23,
   "id": "a716b3c4",
   "metadata": {},
   "outputs": [
    {
     "data": {
      "text/plain": [
       "2"
      ]
     },
     "execution_count": 23,
     "metadata": {},
     "output_type": "execute_result"
    }
   ],
   "source": [
    "#Unique count for day of the week variable\n",
    "df['day_of_the_week'].nunique()"
   ]
  },
  {
   "cell_type": "code",
   "execution_count": 24,
   "id": "db9bc99b",
   "metadata": {},
   "outputs": [
    {
     "data": {
      "text/plain": [
       "<AxesSubplot:xlabel='day_of_the_week', ylabel='count'>"
      ]
     },
     "execution_count": 24,
     "metadata": {},
     "output_type": "execute_result"
    },
    {
     "data": {
      "image/png": "[encoded data removed]",
      "text/plain": [
       "<Figure size 432x288 with 1 Axes>"
      ]
     },
     "metadata": {
      "needs_background": "light"
     },
     "output_type": "display_data"
    }
   ],
   "source": [
    "#Observations for the day of the week variable \n",
    "sns.countplot(data=df,x='day_of_the_week')"
   ]
  },
  {
   "cell_type": "markdown",
   "id": "eeadc56e",
   "metadata": {},
   "source": [
    "### Observations:\n",
    "\n",
    "Most of the orders come on the weekends than on the weekday"
   ]
  },
  {
   "cell_type": "code",
   "execution_count": 25,
   "id": "e63b3b2a",
   "metadata": {},
   "outputs": [
    {
     "data": {
      "text/plain": [
       "4"
      ]
     },
     "execution_count": 25,
     "metadata": {},
     "output_type": "execute_result"
    }
   ],
   "source": [
    "#Unique count for the rating variable\n",
    "df['rating'].nunique()"
   ]
  },
  {
   "cell_type": "code",
   "execution_count": 26,
   "id": "d073a808",
   "metadata": {},
   "outputs": [
    {
     "data": {
      "text/plain": [
       "<AxesSubplot:xlabel='rating', ylabel='count'>"
      ]
     },
     "execution_count": 26,
     "metadata": {},
     "output_type": "execute_result"
    },
    {
     "data": {
      "image/png": "[encoded data removed]",
      "text/plain": [
       "<Figure size 432x288 with 1 Axes>"
      ]
     },
     "metadata": {
      "needs_background": "light"
     },
     "output_type": "display_data"
    }
   ],
   "source": [
    "#Observations for the rating variable\n",
    "sns.countplot(data=df,x='rating')"
   ]
  },
  {
   "cell_type": "markdown",
   "id": "b7bd1f51",
   "metadata": {},
   "source": [
    "### Observations:\n",
    "\n",
    "Most orders are not given a rating or are given a 5, or a 4. This shows that the customer may be more pleased with the service rather than not, since not giving a rating implies their lack of caring"
   ]
  },
  {
   "cell_type": "code",
   "execution_count": 14,
   "id": "a6e3cdc0",
   "metadata": {},
   "outputs": [
    {
     "data": {
      "image/png": "[encoded data removed]",
      "text/plain": [
       "<Figure size 432x288 with 1 Axes>"
      ]
     },
     "metadata": {
      "needs_background": "light"
     },
     "output_type": "display_data"
    },
    {
     "data": {
      "image/png": "[encoded data removed]",
      "text/plain": [
       "<Figure size 432x288 with 1 Axes>"
      ]
     },
     "metadata": {
      "needs_background": "light"
     },
     "output_type": "display_data"
    }
   ],
   "source": [
    "#Food preparation time\n",
    "sns.histplot(data=df,x='food_preparation_time',kde=True)\n",
    "plt.show()\n",
    "sns.boxplot(data=df,x='food_preparation_time')\n",
    "plt.show()"
   ]
  },
  {
   "cell_type": "markdown",
   "id": "6a972a29",
   "metadata": {},
   "source": [
    "### Observations:\n",
    "\n",
    "-The food preparation time is approximately normal with no outliers \n",
    "\n",
    "-We can see that the median food preparation is around 27 minutes "
   ]
  },
  {
   "cell_type": "code",
   "execution_count": 15,
   "id": "97c61403",
   "metadata": {},
   "outputs": [
    {
     "data": {
      "image/png": "[encoded data removed]",
      "text/plain": [
       "<Figure size 432x288 with 1 Axes>"
      ]
     },
     "metadata": {
      "needs_background": "light"
     },
     "output_type": "display_data"
    },
    {
     "data": {
      "image/png": "[encoded data removed]",
      "text/plain": [
       "<Figure size 432x288 with 1 Axes>"
      ]
     },
     "metadata": {
      "needs_background": "light"
     },
     "output_type": "display_data"
    }
   ],
   "source": [
    "#Observations for delivery time\n",
    "sns.histplot(data=df,x='delivery_time',kde=True)\n",
    "plt.show()\n",
    "sns.boxplot(data=df,x='delivery_time')\n",
    "plt.show()"
   ]
  },
  {
   "cell_type": "markdown",
   "id": "0393c832",
   "metadata": {},
   "source": [
    "### Observations:\n",
    "\n",
    "-The delivery time graph is approximately normal, in which indicates that most delivery times are longer, and this graph has no outliers\n",
    "\n",
    "-25% of the delivery times fall over 25 minutes, while 75% of the delivery times fall under 25 minutes"
   ]
  },
  {
   "cell_type": "code",
   "execution_count": 28,
   "id": "18b439e7",
   "metadata": {},
   "outputs": [
    {
     "data": {
      "text/plain": [
       "Shake Shack                  219\n",
       "The Meatball Shop            132\n",
       "Blue Ribbon Sushi            119\n",
       "Blue Ribbon Fried Chicken     96\n",
       "Parm                          68\n",
       "Name: restaurant_name, dtype: int64"
      ]
     },
     "execution_count": 28,
     "metadata": {},
     "output_type": "execute_result"
    }
   ],
   "source": [
    "#Top 5 restaurants in terms of orders received \n",
    "df['restaurant_name'].value_counts(ascending=False).head(5)"
   ]
  },
  {
   "cell_type": "code",
   "execution_count": 31,
   "id": "196012c1",
   "metadata": {},
   "outputs": [
    {
     "data": {
      "text/plain": [
       "American    415\n",
       "Name: cuisine_type, dtype: int64"
      ]
     },
     "execution_count": 31,
     "metadata": {},
     "output_type": "execute_result"
    }
   ],
   "source": [
    "#Most popular cuisine on weekends\n",
    "df_weekend = df[df['day_of_the_week']=='Weekend']\n",
    "df_weekend['cuisine_type'].value_counts(ascending=False).head(1)"
   ]
  },
  {
   "cell_type": "code",
   "execution_count": 40,
   "id": "807bd44a",
   "metadata": {},
   "outputs": [
    {
     "name": "stdout",
     "output_type": "stream",
     "text": [
      "Percentage of orders over $20: 29.24 %\n"
     ]
    }
   ],
   "source": [
    "#Percentage of the orders that cost more than $20\n",
    "Percentage = (df[df['cost_of_the_order']>20].shape[0]/df.shape[0])*100\n",
    "print('Percentage of orders over $20:',round(Percentage,2),'%')"
   ]
  },
  {
   "cell_type": "code",
   "execution_count": 41,
   "id": "1ed227c5",
   "metadata": {},
   "outputs": [
    {
     "name": "stdout",
     "output_type": "stream",
     "text": [
      "The mean delivery time of this dataset is: 24.16 minutes\n"
     ]
    }
   ],
   "source": [
    "#Mean order delivery time\n",
    "Mean_Time = df['delivery_time'].mean()\n",
    "print('The mean delivery time of this dataset is:',round(Mean_Time,2),'minutes')"
   ]
  },
  {
   "cell_type": "code",
   "execution_count": 42,
   "id": "660225b6",
   "metadata": {},
   "outputs": [
    {
     "data": {
      "text/plain": [
       "52832    13\n",
       "47440    10\n",
       "83287     9\n",
       "Name: customer_id, dtype: int64"
      ]
     },
     "execution_count": 42,
     "metadata": {},
     "output_type": "execute_result"
    }
   ],
   "source": [
    "#Customers eligable for a 20% voucher\n",
    "df['customer_id'].value_counts(ascending=False).head(3)"
   ]
  },
  {
   "cell_type": "markdown",
   "id": "5c03d977",
   "metadata": {},
   "source": [
    "## Multivariate Analysis"
   ]
  },
  {
   "cell_type": "code",
   "execution_count": 46,
   "id": "eb204fe9",
   "metadata": {},
   "outputs": [
    {
     "data": {
      "text/plain": [
       "<AxesSubplot:xlabel='cost_of_the_order', ylabel='cuisine_type'>"
      ]
     },
     "execution_count": 46,
     "metadata": {},
     "output_type": "execute_result"
    },
    {
     "data": {
      "image/png": "[encoded data removed]",
      "text/plain": [
       "<Figure size 1080x504 with 1 Axes>"
      ]
     },
     "metadata": {
      "needs_background": "light"
     },
     "output_type": "display_data"
    }
   ],
   "source": [
    "#Relationship between cuisine types and cost or the order \n",
    "plt.figure(figsize=(15,7))\n",
    "sns.boxplot(data=df,x='cost_of_the_order',y='cuisine_type',palette='PuBu')"
   ]
  },
  {
   "cell_type": "markdown",
   "id": "fc9b1f72",
   "metadata": {},
   "source": [
    "### Observations:\n",
    "\n",
    "-Among the top cuisines based on order counts, American Food, Italian Food, and Japanese food have around the same median price between 14 to 15 dollars\n",
    "\n",
    "-Vietnamese Food has the smallest variability among the cuisines since its range is must smaller \n",
    "\n",
    "-There are only outliers among the Vietnamese, Korean, and Mediterranean cuisines"
   ]
  },
  {
   "cell_type": "code",
   "execution_count": 53,
   "id": "c929b28c",
   "metadata": {},
   "outputs": [
    {
     "data": {
      "text/plain": [
       "<AxesSubplot:xlabel='food_preparation_time', ylabel='cuisine_type'>"
      ]
     },
     "execution_count": 53,
     "metadata": {},
     "output_type": "execute_result"
    },
    {
     "data": {
      "image/png": "[encoded data removed]",
      "text/plain": [
       "<Figure size 1080x504 with 1 Axes>"
      ]
     },
     "metadata": {
      "needs_background": "light"
     },
     "output_type": "display_data"
    }
   ],
   "source": [
    "#Relationship between cuisine type and food preparation time \n",
    "plt.figure(figsize=(15,7))\n",
    "sns.boxplot(data=df,x='food_preparation_time',y='cuisine_type',palette='PuBu')"
   ]
  },
  {
   "cell_type": "markdown",
   "id": "3bc89fe8",
   "metadata": {},
   "source": [
    "### Observations:\n",
    "\n",
    "-The food preparation time falls between 20-35 minute interval\n",
    "\n",
    "-If we look at the restuarants with the higher order counts, they all have a median food preparation time that is between 27 and 28 minutes. It also has a high variability due to the range of the preparation time being significantly high\n",
    "\n",
    "-Other restaurants have a significantly lower median food preparation time"
   ]
  },
  {
   "cell_type": "code",
   "execution_count": 62,
   "id": "723ca15c",
   "metadata": {},
   "outputs": [
    {
     "data": {
      "text/plain": [
       "<AxesSubplot:xlabel='delivery_time', ylabel='day_of_the_week'>"
      ]
     },
     "execution_count": 62,
     "metadata": {},
     "output_type": "execute_result"
    },
    {
     "data": {
      "image/png": "[encoded data removed]",
      "text/plain": [
       "<Figure size 1080x504 with 1 Axes>"
      ]
     },
     "metadata": {
      "needs_background": "light"
     },
     "output_type": "display_data"
    }
   ],
   "source": [
    "#Relationship between the day of the week and delivery time \n",
    "plt.figure(figsize=(15,7))\n",
    "sns.boxplot(data=df,x='delivery_time',y='day_of_the_week',palette='PuBu')"
   ]
  },
  {
   "cell_type": "markdown",
   "id": "67794b6c",
   "metadata": {},
   "source": [
    "### Observations:\n",
    "\n",
    "The delivery time on weekdays ranges higher than on the weekends, since rush hour may have an affect on this variable "
   ]
  },
  {
   "cell_type": "code",
   "execution_count": 59,
   "id": "bba366d4",
   "metadata": {},
   "outputs": [
    {
     "data": {
      "text/html": [
       "<div>\n",
       "<style scoped>\n",
       "    .dataframe tbody tr th:only-of-type {\n",
       "        vertical-align: middle;\n",
       "    }\n",
       "\n",
       "    .dataframe tbody tr th {\n",
       "        vertical-align: top;\n",
       "    }\n",
       "\n",
       "    .dataframe thead th {\n",
       "        text-align: right;\n",
       "    }\n",
       "</style>\n",
       "<table border=\"1\" class=\"dataframe\">\n",
       "  <thead>\n",
       "    <tr style=\"text-align: right;\">\n",
       "      <th></th>\n",
       "      <th></th>\n",
       "      <th>cost_of_the_order</th>\n",
       "    </tr>\n",
       "    <tr>\n",
       "      <th>restaurant_name</th>\n",
       "      <th>cuisine_type</th>\n",
       "      <th></th>\n",
       "    </tr>\n",
       "  </thead>\n",
       "  <tbody>\n",
       "    <tr>\n",
       "      <th>Shake Shack</th>\n",
       "      <th>American</th>\n",
       "      <td>3579.53</td>\n",
       "    </tr>\n",
       "    <tr>\n",
       "      <th>Blue Ribbon Sushi</th>\n",
       "      <th>Japanese</th>\n",
       "      <td>1903.95</td>\n",
       "    </tr>\n",
       "    <tr>\n",
       "      <th>The Meatball Shop</th>\n",
       "      <th>Italian</th>\n",
       "      <td>1821.01</td>\n",
       "    </tr>\n",
       "    <tr>\n",
       "      <th>Blue Ribbon Fried Chicken</th>\n",
       "      <th>American</th>\n",
       "      <td>1662.29</td>\n",
       "    </tr>\n",
       "    <tr>\n",
       "      <th>Parm</th>\n",
       "      <th>Italian</th>\n",
       "      <td>1112.76</td>\n",
       "    </tr>\n",
       "    <tr>\n",
       "      <th>RedFarm Broadway</th>\n",
       "      <th>Chinese</th>\n",
       "      <td>965.13</td>\n",
       "    </tr>\n",
       "    <tr>\n",
       "      <th>RedFarm Hudson</th>\n",
       "      <th>Chinese</th>\n",
       "      <td>921.21</td>\n",
       "    </tr>\n",
       "    <tr>\n",
       "      <th>TAO</th>\n",
       "      <th>Japanese</th>\n",
       "      <td>834.50</td>\n",
       "    </tr>\n",
       "    <tr>\n",
       "      <th>Han Dynasty</th>\n",
       "      <th>Chinese</th>\n",
       "      <td>755.29</td>\n",
       "    </tr>\n",
       "    <tr>\n",
       "      <th>Blue Ribbon Sushi Bar &amp; Grill</th>\n",
       "      <th>Japanese</th>\n",
       "      <td>666.62</td>\n",
       "    </tr>\n",
       "    <tr>\n",
       "      <th>Rubirosa</th>\n",
       "      <th>Italian</th>\n",
       "      <td>660.45</td>\n",
       "    </tr>\n",
       "    <tr>\n",
       "      <th>Sushi of Gari 46</th>\n",
       "      <th>Japanese</th>\n",
       "      <td>640.87</td>\n",
       "    </tr>\n",
       "    <tr>\n",
       "      <th>Nobu Next Door</th>\n",
       "      <th>Japanese</th>\n",
       "      <td>623.67</td>\n",
       "    </tr>\n",
       "    <tr>\n",
       "      <th>Five Guys Burgers and Fries</th>\n",
       "      <th>American</th>\n",
       "      <td>506.47</td>\n",
       "    </tr>\n",
       "  </tbody>\n",
       "</table>\n",
       "</div>"
      ],
      "text/plain": [
       "                                            cost_of_the_order\n",
       "restaurant_name               cuisine_type                   \n",
       "Shake Shack                   American                3579.53\n",
       "Blue Ribbon Sushi             Japanese                1903.95\n",
       "The Meatball Shop             Italian                 1821.01\n",
       "Blue Ribbon Fried Chicken     American                1662.29\n",
       "Parm                          Italian                 1112.76\n",
       "RedFarm Broadway              Chinese                  965.13\n",
       "RedFarm Hudson                Chinese                  921.21\n",
       "TAO                           Japanese                 834.50\n",
       "Han Dynasty                   Chinese                  755.29\n",
       "Blue Ribbon Sushi Bar & Grill Japanese                 666.62\n",
       "Rubirosa                      Italian                  660.45\n",
       "Sushi of Gari 46              Japanese                 640.87\n",
       "Nobu Next Door                Japanese                 623.67\n",
       "Five Guys Burgers and Fries   American                 506.47"
      ]
     },
     "execution_count": 59,
     "metadata": {},
     "output_type": "execute_result"
    }
   ],
   "source": [
    "#Revenues generated by restaurants \n",
    "df.groupby(['restaurant_name','cuisine_type'])[['cost_of_the_order']].sum().sort_values(by='cost_of_the_order',ascending=False).head(14)"
   ]
  },
  {
   "cell_type": "markdown",
   "id": "4a7dad1a",
   "metadata": {},
   "source": [
    "### Observations:\n",
    "\n",
    "-The restaurants that generated the most revenue are from the higher order counts, which are American restaurants, Japanese, Italian, and Chinese Restaurants\n",
    "\n",
    "-The top restaurants is Shake Shack, in which makes the most revenue out of all the restaurants, then we habe Blue Ribbon Sushi and The Meatball Shop"
   ]
  },
  {
   "cell_type": "code",
   "execution_count": 71,
   "id": "a7171f6d",
   "metadata": {},
   "outputs": [
    {
     "data": {
      "text/plain": [
       "<AxesSubplot:xlabel='rating', ylabel='delivery_time'>"
      ]
     },
     "execution_count": 71,
     "metadata": {},
     "output_type": "execute_result"
    },
    {
     "data": {
      "image/png": "[encoded data removed]",
      "text/plain": [
       "<Figure size 1080x504 with 1 Axes>"
      ]
     },
     "metadata": {
      "needs_background": "light"
     },
     "output_type": "display_data"
    }
   ],
   "source": [
    "#Relationship between rating and delivery time \n",
    "plt.figure(figsize=(15,7))\n",
    "sns.pointplot(data=df,x='rating',y='delivery_time')"
   ]
  },
  {
   "cell_type": "markdown",
   "id": "e0191136",
   "metadata": {},
   "source": [
    "### Observations:\n",
    "\n",
    "-You see that a higher time, you see that you will get the lowest rating of a 3, while you see that the shorter the delivery time, you will end up with a 4 and 5, as well as Not Given a rating is also for lower delivery times "
   ]
  },
  {
   "cell_type": "code",
   "execution_count": 72,
   "id": "998be020",
   "metadata": {},
   "outputs": [
    {
     "data": {
      "text/plain": [
       "<AxesSubplot:xlabel='rating', ylabel='food_preparation_time'>"
      ]
     },
     "execution_count": 72,
     "metadata": {},
     "output_type": "execute_result"
    },
    {
     "data": {
      "image/png": "[encoded data removed]",
      "text/plain": [
       "<Figure size 1080x504 with 1 Axes>"
      ]
     },
     "metadata": {
      "needs_background": "light"
     },
     "output_type": "display_data"
    }
   ],
   "source": [
    "#Relationship between food preparation time and ratings\n",
    "plt.figure(figsize=(15,7))\n",
    "sns.pointplot(data=df,x='rating',y='food_preparation_time')"
   ]
  },
  {
   "cell_type": "markdown",
   "id": "781c2b71",
   "metadata": {},
   "source": [
    "### Observations:\n",
    "\n",
    "-Food preparation time does not vary based upin rating. It stayed relatively the same"
   ]
  },
  {
   "cell_type": "code",
   "execution_count": 73,
   "id": "87fc88c8",
   "metadata": {},
   "outputs": [
    {
     "data": {
      "text/plain": [
       "<AxesSubplot:xlabel='rating', ylabel='cost_of_the_order'>"
      ]
     },
     "execution_count": 73,
     "metadata": {},
     "output_type": "execute_result"
    },
    {
     "data": {
      "image/png": "[encoded data removed]",
      "text/plain": [
       "<Figure size 1080x504 with 1 Axes>"
      ]
     },
     "metadata": {
      "needs_background": "light"
     },
     "output_type": "display_data"
    }
   ],
   "source": [
    "plt.figure(figsize=(15,7))\n",
    "sns.pointplot(data=df,x='rating',y='cost_of_the_order')"
   ]
  },
  {
   "cell_type": "markdown",
   "id": "6bf016c4",
   "metadata": {},
   "source": [
    "### Observations:\n",
    "\n",
    "-The higher the cost of the food, the higher the rating. You see that a 4 or 5 rating usually ends up with a higher cost of the order, and a rating Not Given and a 3 rating given when the cost of the order is lower"
   ]
  },
  {
   "cell_type": "code",
   "execution_count": 68,
   "id": "969443b4",
   "metadata": {
    "scrolled": true
   },
   "outputs": [
    {
     "data": {
      "text/plain": [
       "<AxesSubplot:>"
      ]
     },
     "execution_count": 68,
     "metadata": {},
     "output_type": "execute_result"
    },
    {
     "data": {
      "image/png": "[encoded data removed]",
      "text/plain": [
       "<Figure size 1080x504 with 2 Axes>"
      ]
     },
     "metadata": {
      "needs_background": "light"
     },
     "output_type": "display_data"
    }
   ],
   "source": [
    "#Correlation Among Numerical Variables\n",
    "Numerical_List=['cost_of_the_order','food_preparation_time','delivery_time']\n",
    "plt.figure(figsize=(15,7))\n",
    "sns.heatmap(df[Numerical_List].corr(), annot=True, vmin=1, vmax=1, fmt='2f',cmap='Spectral')"
   ]
  },
  {
   "cell_type": "markdown",
   "id": "bb8ca68d",
   "metadata": {},
   "source": [
    "### Observations:\n",
    "\n",
    "-None of the numerical variables have any correlation among another"
   ]
  },
  {
   "cell_type": "code",
   "execution_count": 97,
   "id": "46ca7b8b",
   "metadata": {},
   "outputs": [
    {
     "name": "stdout",
     "output_type": "stream",
     "text": [
      "                  restaurant_name  rating\n",
      "0                     Shake Shack     219\n",
      "1               The Meatball Shop     132\n",
      "2               Blue Ribbon Sushi     119\n",
      "3       Blue Ribbon Fried Chicken      96\n",
      "4                            Parm      68\n",
      "5                RedFarm Broadway      59\n",
      "6                  RedFarm Hudson      55\n",
      "7                             TAO      49\n",
      "8                     Han Dynasty      46\n",
      "9   Blue Ribbon Sushi Bar & Grill      44\n",
      "10                 Nobu Next Door      42\n",
      "11                       Rubirosa      37\n",
      "12               Sushi of Gari 46      37\n",
      "13                         Momoya      30\n",
      "14      Blue Ribbon Sushi Izakaya      29\n",
      "15    Five Guys Burgers and Fries      29\n",
      "16                     Bareburger      27\n",
      "17               Tamarind TriBeCa      27\n",
      "18              Jack's Wife Freda      25\n",
      "19          Sushi of Gari Tribeca      24\n"
     ]
    }
   ],
   "source": [
    "#Checking which restaurants are eligable for promotional offer based on rating count \n",
    "df_rating=df[df['rating']!='Not given'].copy()\n",
    "df_rating['rating']=df_rating['rating'].astype('int')\n",
    "\n",
    "df_highest_rating = df.groupby(['restaurant_name'])['rating'].count().sort_values(ascending=False).reset_index()\n",
    "print(df_highest_rating.head(20))"
   ]
  },
  {
   "cell_type": "code",
   "execution_count": 102,
   "id": "17360054",
   "metadata": {},
   "outputs": [
    {
     "name": "stdout",
     "output_type": "stream",
     "text": [
      "0                  Shake Shack\n",
      "1            The Meatball Shop\n",
      "2            Blue Ribbon Sushi\n",
      "3    Blue Ribbon Fried Chicken\n",
      "4                         Parm\n",
      "5             RedFarm Broadway\n",
      "6               RedFarm Hudson\n",
      "Name: restaurant_name, dtype: object\n"
     ]
    }
   ],
   "source": [
    "#Checking which restaurant meet the criteria for promotional offer based on average rating count of more than 50\n",
    "rest_names = df_highest_rating[df_highest_rating['rating']>50]['restaurant_name']\n",
    "print(rest_names)"
   ]
  },
  {
   "cell_type": "code",
   "execution_count": 111,
   "id": "953b8d6b",
   "metadata": {},
   "outputs": [],
   "source": [
    "#Checking which restaurant has the highest average mean greater than 4 \n",
    "df_mean_4 = df_mean_4 = df_rating[df_rating['restaurant_name'].isin(rest_names)].copy()"
   ]
  },
  {
   "cell_type": "code",
   "execution_count": 112,
   "id": "d6837388",
   "metadata": {},
   "outputs": [
    {
     "data": {
      "text/html": [
       "<div>\n",
       "<style scoped>\n",
       "    .dataframe tbody tr th:only-of-type {\n",
       "        vertical-align: middle;\n",
       "    }\n",
       "\n",
       "    .dataframe tbody tr th {\n",
       "        vertical-align: top;\n",
       "    }\n",
       "\n",
       "    .dataframe thead th {\n",
       "        text-align: right;\n",
       "    }\n",
       "</style>\n",
       "<table border=\"1\" class=\"dataframe\">\n",
       "  <thead>\n",
       "    <tr style=\"text-align: right;\">\n",
       "      <th></th>\n",
       "      <th>restaurant_name</th>\n",
       "      <th>rating</th>\n",
       "    </tr>\n",
       "  </thead>\n",
       "  <tbody>\n",
       "    <tr>\n",
       "      <th>0</th>\n",
       "      <td>The Meatball Shop</td>\n",
       "      <td>4.511905</td>\n",
       "    </tr>\n",
       "    <tr>\n",
       "      <th>1</th>\n",
       "      <td>Blue Ribbon Fried Chicken</td>\n",
       "      <td>4.328125</td>\n",
       "    </tr>\n",
       "    <tr>\n",
       "      <th>2</th>\n",
       "      <td>Shake Shack</td>\n",
       "      <td>4.278195</td>\n",
       "    </tr>\n",
       "    <tr>\n",
       "      <th>3</th>\n",
       "      <td>RedFarm Broadway</td>\n",
       "      <td>4.243902</td>\n",
       "    </tr>\n",
       "    <tr>\n",
       "      <th>4</th>\n",
       "      <td>Blue Ribbon Sushi</td>\n",
       "      <td>4.219178</td>\n",
       "    </tr>\n",
       "    <tr>\n",
       "      <th>5</th>\n",
       "      <td>RedFarm Hudson</td>\n",
       "      <td>4.176471</td>\n",
       "    </tr>\n",
       "    <tr>\n",
       "      <th>6</th>\n",
       "      <td>Parm</td>\n",
       "      <td>4.128205</td>\n",
       "    </tr>\n",
       "  </tbody>\n",
       "</table>\n",
       "</div>"
      ],
      "text/plain": [
       "             restaurant_name    rating\n",
       "0          The Meatball Shop  4.511905\n",
       "1  Blue Ribbon Fried Chicken  4.328125\n",
       "2                Shake Shack  4.278195\n",
       "3           RedFarm Broadway  4.243902\n",
       "4          Blue Ribbon Sushi  4.219178\n",
       "5             RedFarm Hudson  4.176471\n",
       "6                       Parm  4.128205"
      ]
     },
     "execution_count": 112,
     "metadata": {},
     "output_type": "execute_result"
    }
   ],
   "source": [
    "df_mean_4.groupby(['restaurant_name'])['rating'].mean().sort_values(ascending=False).reset_index().dropna()"
   ]
  },
  {
   "cell_type": "code",
   "execution_count": 124,
   "id": "06489251",
   "metadata": {},
   "outputs": [
    {
     "data": {
      "text/html": [
       "<div>\n",
       "<style scoped>\n",
       "    .dataframe tbody tr th:only-of-type {\n",
       "        vertical-align: middle;\n",
       "    }\n",
       "\n",
       "    .dataframe tbody tr th {\n",
       "        vertical-align: top;\n",
       "    }\n",
       "\n",
       "    .dataframe thead th {\n",
       "        text-align: right;\n",
       "    }\n",
       "</style>\n",
       "<table border=\"1\" class=\"dataframe\">\n",
       "  <thead>\n",
       "    <tr style=\"text-align: right;\">\n",
       "      <th></th>\n",
       "      <th>order_id</th>\n",
       "      <th>customer_id</th>\n",
       "      <th>restaurant_name</th>\n",
       "      <th>cuisine_type</th>\n",
       "      <th>cost_of_the_order</th>\n",
       "      <th>day_of_the_week</th>\n",
       "      <th>rating</th>\n",
       "      <th>food_preparation_time</th>\n",
       "      <th>delivery_time</th>\n",
       "      <th>revenue</th>\n",
       "      <th>total_time</th>\n",
       "    </tr>\n",
       "  </thead>\n",
       "  <tbody>\n",
       "    <tr>\n",
       "      <th>0</th>\n",
       "      <td>1477147</td>\n",
       "      <td>337525</td>\n",
       "      <td>Hangawi</td>\n",
       "      <td>Korean</td>\n",
       "      <td>30.75</td>\n",
       "      <td>Weekend</td>\n",
       "      <td>Not given</td>\n",
       "      <td>25</td>\n",
       "      <td>20</td>\n",
       "      <td>7.6875</td>\n",
       "      <td>45</td>\n",
       "    </tr>\n",
       "    <tr>\n",
       "      <th>1</th>\n",
       "      <td>1477685</td>\n",
       "      <td>358141</td>\n",
       "      <td>Blue Ribbon Sushi Izakaya</td>\n",
       "      <td>Japanese</td>\n",
       "      <td>12.08</td>\n",
       "      <td>Weekend</td>\n",
       "      <td>Not given</td>\n",
       "      <td>25</td>\n",
       "      <td>23</td>\n",
       "      <td>1.8120</td>\n",
       "      <td>48</td>\n",
       "    </tr>\n",
       "    <tr>\n",
       "      <th>2</th>\n",
       "      <td>1477070</td>\n",
       "      <td>66393</td>\n",
       "      <td>Cafe Habana</td>\n",
       "      <td>Mexican</td>\n",
       "      <td>12.23</td>\n",
       "      <td>Weekday</td>\n",
       "      <td>5</td>\n",
       "      <td>23</td>\n",
       "      <td>28</td>\n",
       "      <td>1.8345</td>\n",
       "      <td>51</td>\n",
       "    </tr>\n",
       "    <tr>\n",
       "      <th>3</th>\n",
       "      <td>1477334</td>\n",
       "      <td>106968</td>\n",
       "      <td>Blue Ribbon Fried Chicken</td>\n",
       "      <td>American</td>\n",
       "      <td>29.20</td>\n",
       "      <td>Weekend</td>\n",
       "      <td>3</td>\n",
       "      <td>25</td>\n",
       "      <td>15</td>\n",
       "      <td>7.3000</td>\n",
       "      <td>40</td>\n",
       "    </tr>\n",
       "    <tr>\n",
       "      <th>4</th>\n",
       "      <td>1478249</td>\n",
       "      <td>76942</td>\n",
       "      <td>Dirty Bird to Go</td>\n",
       "      <td>American</td>\n",
       "      <td>11.59</td>\n",
       "      <td>Weekday</td>\n",
       "      <td>4</td>\n",
       "      <td>25</td>\n",
       "      <td>24</td>\n",
       "      <td>1.7385</td>\n",
       "      <td>49</td>\n",
       "    </tr>\n",
       "    <tr>\n",
       "      <th>5</th>\n",
       "      <td>1477224</td>\n",
       "      <td>147468</td>\n",
       "      <td>Tamarind TriBeCa</td>\n",
       "      <td>Indian</td>\n",
       "      <td>25.22</td>\n",
       "      <td>Weekday</td>\n",
       "      <td>3</td>\n",
       "      <td>20</td>\n",
       "      <td>24</td>\n",
       "      <td>6.3050</td>\n",
       "      <td>44</td>\n",
       "    </tr>\n",
       "    <tr>\n",
       "      <th>6</th>\n",
       "      <td>1477894</td>\n",
       "      <td>157711</td>\n",
       "      <td>The Meatball Shop</td>\n",
       "      <td>Italian</td>\n",
       "      <td>6.07</td>\n",
       "      <td>Weekend</td>\n",
       "      <td>Not given</td>\n",
       "      <td>28</td>\n",
       "      <td>21</td>\n",
       "      <td>0.9105</td>\n",
       "      <td>49</td>\n",
       "    </tr>\n",
       "    <tr>\n",
       "      <th>7</th>\n",
       "      <td>1477859</td>\n",
       "      <td>89574</td>\n",
       "      <td>Barbounia</td>\n",
       "      <td>Mediterranean</td>\n",
       "      <td>5.97</td>\n",
       "      <td>Weekday</td>\n",
       "      <td>3</td>\n",
       "      <td>33</td>\n",
       "      <td>30</td>\n",
       "      <td>0.8955</td>\n",
       "      <td>63</td>\n",
       "    </tr>\n",
       "    <tr>\n",
       "      <th>8</th>\n",
       "      <td>1477174</td>\n",
       "      <td>121706</td>\n",
       "      <td>Anjappar Chettinad</td>\n",
       "      <td>Indian</td>\n",
       "      <td>16.44</td>\n",
       "      <td>Weekday</td>\n",
       "      <td>5</td>\n",
       "      <td>21</td>\n",
       "      <td>26</td>\n",
       "      <td>2.4660</td>\n",
       "      <td>47</td>\n",
       "    </tr>\n",
       "    <tr>\n",
       "      <th>9</th>\n",
       "      <td>1477311</td>\n",
       "      <td>39705</td>\n",
       "      <td>Bukhara Grill</td>\n",
       "      <td>Indian</td>\n",
       "      <td>7.18</td>\n",
       "      <td>Weekday</td>\n",
       "      <td>5</td>\n",
       "      <td>29</td>\n",
       "      <td>26</td>\n",
       "      <td>1.0770</td>\n",
       "      <td>55</td>\n",
       "    </tr>\n",
       "    <tr>\n",
       "      <th>10</th>\n",
       "      <td>1477895</td>\n",
       "      <td>143926</td>\n",
       "      <td>Big Wong Restaurant _¤¾Ñ¼</td>\n",
       "      <td>Chinese</td>\n",
       "      <td>5.92</td>\n",
       "      <td>Weekday</td>\n",
       "      <td>Not given</td>\n",
       "      <td>34</td>\n",
       "      <td>28</td>\n",
       "      <td>0.8880</td>\n",
       "      <td>62</td>\n",
       "    </tr>\n",
       "    <tr>\n",
       "      <th>11</th>\n",
       "      <td>1478437</td>\n",
       "      <td>221206</td>\n",
       "      <td>Empanada Mama (closed)</td>\n",
       "      <td>Mexican</td>\n",
       "      <td>8.10</td>\n",
       "      <td>Weekend</td>\n",
       "      <td>5</td>\n",
       "      <td>23</td>\n",
       "      <td>22</td>\n",
       "      <td>1.2150</td>\n",
       "      <td>45</td>\n",
       "    </tr>\n",
       "    <tr>\n",
       "      <th>12</th>\n",
       "      <td>1476966</td>\n",
       "      <td>129969</td>\n",
       "      <td>Blue Ribbon Fried Chicken</td>\n",
       "      <td>American</td>\n",
       "      <td>24.30</td>\n",
       "      <td>Weekend</td>\n",
       "      <td>5</td>\n",
       "      <td>23</td>\n",
       "      <td>17</td>\n",
       "      <td>6.0750</td>\n",
       "      <td>40</td>\n",
       "    </tr>\n",
       "    <tr>\n",
       "      <th>13</th>\n",
       "      <td>1477449</td>\n",
       "      <td>104548</td>\n",
       "      <td>Pylos</td>\n",
       "      <td>Mediterranean</td>\n",
       "      <td>11.30</td>\n",
       "      <td>Weekend</td>\n",
       "      <td>3</td>\n",
       "      <td>24</td>\n",
       "      <td>23</td>\n",
       "      <td>1.6950</td>\n",
       "      <td>47</td>\n",
       "    </tr>\n",
       "    <tr>\n",
       "      <th>14</th>\n",
       "      <td>1478198</td>\n",
       "      <td>62667</td>\n",
       "      <td>Lucky's Famous Burgers</td>\n",
       "      <td>American</td>\n",
       "      <td>12.13</td>\n",
       "      <td>Weekday</td>\n",
       "      <td>Not given</td>\n",
       "      <td>23</td>\n",
       "      <td>30</td>\n",
       "      <td>1.8195</td>\n",
       "      <td>53</td>\n",
       "    </tr>\n",
       "    <tr>\n",
       "      <th>15</th>\n",
       "      <td>1477414</td>\n",
       "      <td>66222</td>\n",
       "      <td>Shake Shack</td>\n",
       "      <td>American</td>\n",
       "      <td>16.20</td>\n",
       "      <td>Weekend</td>\n",
       "      <td>5</td>\n",
       "      <td>33</td>\n",
       "      <td>25</td>\n",
       "      <td>2.4300</td>\n",
       "      <td>58</td>\n",
       "    </tr>\n",
       "    <tr>\n",
       "      <th>16</th>\n",
       "      <td>1477486</td>\n",
       "      <td>104555</td>\n",
       "      <td>Sushi of Gari</td>\n",
       "      <td>Japanese</td>\n",
       "      <td>16.98</td>\n",
       "      <td>Weekend</td>\n",
       "      <td>Not given</td>\n",
       "      <td>30</td>\n",
       "      <td>16</td>\n",
       "      <td>2.5470</td>\n",
       "      <td>46</td>\n",
       "    </tr>\n",
       "    <tr>\n",
       "      <th>17</th>\n",
       "      <td>1477373</td>\n",
       "      <td>139885</td>\n",
       "      <td>Blue Ribbon Sushi Izakaya</td>\n",
       "      <td>Japanese</td>\n",
       "      <td>33.03</td>\n",
       "      <td>Weekend</td>\n",
       "      <td>Not given</td>\n",
       "      <td>21</td>\n",
       "      <td>22</td>\n",
       "      <td>8.2575</td>\n",
       "      <td>43</td>\n",
       "    </tr>\n",
       "    <tr>\n",
       "      <th>18</th>\n",
       "      <td>1477138</td>\n",
       "      <td>47280</td>\n",
       "      <td>RedFarm Hudson</td>\n",
       "      <td>Chinese</td>\n",
       "      <td>14.12</td>\n",
       "      <td>Weekend</td>\n",
       "      <td>4</td>\n",
       "      <td>25</td>\n",
       "      <td>24</td>\n",
       "      <td>2.1180</td>\n",
       "      <td>49</td>\n",
       "    </tr>\n",
       "    <tr>\n",
       "      <th>19</th>\n",
       "      <td>1477354</td>\n",
       "      <td>67487</td>\n",
       "      <td>Blue Ribbon Sushi</td>\n",
       "      <td>Japanese</td>\n",
       "      <td>16.20</td>\n",
       "      <td>Weekend</td>\n",
       "      <td>4</td>\n",
       "      <td>35</td>\n",
       "      <td>26</td>\n",
       "      <td>2.4300</td>\n",
       "      <td>61</td>\n",
       "    </tr>\n",
       "  </tbody>\n",
       "</table>\n",
       "</div>"
      ],
      "text/plain": [
       "   order_id customer_id             restaurant_name   cuisine_type  \\\n",
       "0   1477147      337525                     Hangawi         Korean   \n",
       "1   1477685      358141   Blue Ribbon Sushi Izakaya       Japanese   \n",
       "2   1477070       66393                 Cafe Habana        Mexican   \n",
       "3   1477334      106968   Blue Ribbon Fried Chicken       American   \n",
       "4   1478249       76942            Dirty Bird to Go       American   \n",
       "5   1477224      147468            Tamarind TriBeCa         Indian   \n",
       "6   1477894      157711           The Meatball Shop        Italian   \n",
       "7   1477859       89574                   Barbounia  Mediterranean   \n",
       "8   1477174      121706          Anjappar Chettinad         Indian   \n",
       "9   1477311       39705               Bukhara Grill         Indian   \n",
       "10  1477895      143926  Big Wong Restaurant _¤¾Ñ¼        Chinese   \n",
       "11  1478437      221206      Empanada Mama (closed)        Mexican   \n",
       "12  1476966      129969   Blue Ribbon Fried Chicken       American   \n",
       "13  1477449      104548                       Pylos  Mediterranean   \n",
       "14  1478198       62667      Lucky's Famous Burgers       American   \n",
       "15  1477414       66222                 Shake Shack       American   \n",
       "16  1477486      104555               Sushi of Gari       Japanese   \n",
       "17  1477373      139885   Blue Ribbon Sushi Izakaya       Japanese   \n",
       "18  1477138       47280              RedFarm Hudson        Chinese   \n",
       "19  1477354       67487           Blue Ribbon Sushi       Japanese   \n",
       "\n",
       "    cost_of_the_order day_of_the_week     rating  food_preparation_time  \\\n",
       "0               30.75         Weekend  Not given                     25   \n",
       "1               12.08         Weekend  Not given                     25   \n",
       "2               12.23         Weekday          5                     23   \n",
       "3               29.20         Weekend          3                     25   \n",
       "4               11.59         Weekday          4                     25   \n",
       "5               25.22         Weekday          3                     20   \n",
       "6                6.07         Weekend  Not given                     28   \n",
       "7                5.97         Weekday          3                     33   \n",
       "8               16.44         Weekday          5                     21   \n",
       "9                7.18         Weekday          5                     29   \n",
       "10               5.92         Weekday  Not given                     34   \n",
       "11               8.10         Weekend          5                     23   \n",
       "12              24.30         Weekend          5                     23   \n",
       "13              11.30         Weekend          3                     24   \n",
       "14              12.13         Weekday  Not given                     23   \n",
       "15              16.20         Weekend          5                     33   \n",
       "16              16.98         Weekend  Not given                     30   \n",
       "17              33.03         Weekend  Not given                     21   \n",
       "18              14.12         Weekend          4                     25   \n",
       "19              16.20         Weekend          4                     35   \n",
       "\n",
       "    delivery_time  revenue  total_time  \n",
       "0              20   7.6875          45  \n",
       "1              23   1.8120          48  \n",
       "2              28   1.8345          51  \n",
       "3              15   7.3000          40  \n",
       "4              24   1.7385          49  \n",
       "5              24   6.3050          44  \n",
       "6              21   0.9105          49  \n",
       "7              30   0.8955          63  \n",
       "8              26   2.4660          47  \n",
       "9              26   1.0770          55  \n",
       "10             28   0.8880          62  \n",
       "11             22   1.2150          45  \n",
       "12             17   6.0750          40  \n",
       "13             23   1.6950          47  \n",
       "14             30   1.8195          53  \n",
       "15             25   2.4300          58  \n",
       "16             16   2.5470          46  \n",
       "17             22   8.2575          43  \n",
       "18             24   2.1180          49  \n",
       "19             26   2.4300          61  "
      ]
     },
     "execution_count": 124,
     "metadata": {},
     "output_type": "execute_result"
    }
   ],
   "source": [
    "#Checking which restaurants have the criteria for 25% charge and 15% charge \n",
    "def compute_rev(x):\n",
    "    if x > 20:\n",
    "        return x*0.25\n",
    "    elif x > 5:\n",
    "        return x*0.15\n",
    "    else:\n",
    "        x*0\n",
    "df['revenue'] = df['cost_of_the_order'].apply(compute_rev)\n",
    "df.head(20)"
   ]
  },
  {
   "cell_type": "code",
   "execution_count": 117,
   "id": "e1c35457",
   "metadata": {},
   "outputs": [
    {
     "name": "stdout",
     "output_type": "stream",
     "text": [
      "the total revenue generated by the company is: 6166.3 dollars\n"
     ]
    }
   ],
   "source": [
    "#Getting total revenue and printing it \n",
    "total_rev = df['revenue'].sum()\n",
    "print('the total revenue generated by the company is:',round(total_rev, 2),'dollars')"
   ]
  },
  {
   "cell_type": "code",
   "execution_count": 119,
   "id": "41ef322c",
   "metadata": {},
   "outputs": [
    {
     "name": "stdout",
     "output_type": "stream",
     "text": [
      "10.54 percent of deliveries take 60 minutes in total to deliver\n"
     ]
    }
   ],
   "source": [
    "#Percentage of orders that take 60 minutes to deliver\n",
    "df['total_time'] = df['delivery_time'] + df['food_preparation_time']\n",
    "Percent_Time = (df[df['total_time']>60].shape[0]/df.shape[0])*100\n",
    "print(round(Percent_Time,2),'percent of deliveries take 60 minutes in total to deliver')"
   ]
  },
  {
   "cell_type": "code",
   "execution_count": 123,
   "id": "7af8a867",
   "metadata": {},
   "outputs": [
    {
     "name": "stdout",
     "output_type": "stream",
     "text": [
      "the mean delivery time on weekdays is around 28.34 minutes\n",
      "the mean delivery time on weekends is around 22.47 minutes\n"
     ]
    }
   ],
   "source": [
    "#Analyzing mean times between weekdays and weekends \n",
    "print('the mean delivery time on weekdays is around',round(df[df['day_of_the_week']=='Weekday']['delivery_time'].mean(),\n",
    "        2), 'minutes')\n",
    "print('the mean delivery time on weekends is around',round(df[df['day_of_the_week']=='Weekend']['delivery_time'].mean(),\n",
    "        2), 'minutes')"
   ]
  },
  {
   "cell_type": "markdown",
   "id": "16a2b180",
   "metadata": {},
   "source": [
    "## Recommendations and Conclusions"
   ]
  },
  {
   "cell_type": "markdown",
   "id": "4cb37fed",
   "metadata": {},
   "source": [
    "### Conclusions\n",
    "\n",
    "-It takes less time on the weekends than on the weekdays to deliver food. This may be because of time constraints due to rush hour on weekdays in both the mornings and the afternoons. \n",
    "\n",
    "-FoodHub generated 6166.3 dollars in revenue from charging cost of orders over $20 25% and over 5 dollars 15%\n",
    "\n",
    "-Majority of their revenue may come from the top 5 restaurants such as Shake Shack, The MeatBall Shop, and Blue Ribbon Sushi, which are mainly American Food restaurants, and these are among the top restaurants with the highest ratings and rating count"
   ]
  },
  {
   "cell_type": "markdown",
   "id": "b30f5835",
   "metadata": {},
   "source": [
    "### Recommendations\n",
    "\n",
    "-Focus on mainly high demanded restaurants for revenue generation such as restaurants pertaining to ones that have American, Japanese, and Itailian Cuisines, since these are the restaurants that end up getting the highest rating and the highest cost of orders among the different cuisines. \n",
    "\n",
    "-In an effort to gain feedback for business improvement, we should encourage more customers to leave feeback ratings when they are pleased with our services in order to increase the service loyatly of our business"
   ]
  }
 ],
 "metadata": {
  "kernelspec": {
   "display_name": "Python 3 (ipykernel)",
   "language": "python",
   "name": "python3"
  },
  "language_info": {
   "codemirror_mode": {
    "name": "ipython",
    "version": 3
   },
   "file_extension": ".py",
   "mimetype": "text/x-python",
   "name": "python",
   "nbconvert_exporter": "python",
   "pygments_lexer": "ipython3",
   "version": "3.9.12"
  }
 },
 "nbformat": 4,
 "nbformat_minor": 5
}
